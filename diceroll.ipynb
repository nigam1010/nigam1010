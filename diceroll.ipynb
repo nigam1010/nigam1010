{
  "nbformat": 4,
  "nbformat_minor": 0,
  "metadata": {
    "colab": {
      "provenance": [],
      "authorship_tag": "ABX9TyM91FWbB1Glpd1no4Ulf2wo",
      "include_colab_link": true
    },
    "kernelspec": {
      "name": "python3",
      "display_name": "Python 3"
    },
    "language_info": {
      "name": "python"
    }
  },
  "cells": [
    {
      "cell_type": "markdown",
      "metadata": {
        "id": "view-in-github",
        "colab_type": "text"
      },
      "source": [
        "<a href=\"https://colab.research.google.com/github/nigam1010/nigam1010/blob/main/diceroll.ipynb\" target=\"_parent\"><img src=\"https://colab.research.google.com/assets/colab-badge.svg\" alt=\"Open In Colab\"/></a>"
      ]
    },
    {
      "cell_type": "code",
      "execution_count": null,
      "metadata": {
        "id": "Hzzrv6bIVAg9",
        "outputId": "5056dd5f-e102-40da-f40b-9653c40d5969",
        "colab": {
          "base_uri": "https://localhost:8080/"
        }
      },
      "outputs": [
        {
          "output_type": "stream",
          "name": "stdout",
          "text": [
            "This is a dice stimulator\n",
            "----------\n",
            "| O    O |\n",
            "|    O   |\n",
            "| O    O |\n",
            "----------\n",
            "Press y to roll againy\n",
            "----------\n",
            "| O    O |\n",
            "| O    O |\n",
            "| O    O |\n",
            "----------\n",
            "Press y to roll againy\n",
            "----------\n",
            "|        |\n",
            "|    O   |\n",
            "|        |\n",
            "----------\n",
            "Press y to roll againy\n",
            "----------\n",
            "|    O   |\n",
            "|    O   |\n",
            "|    O   |\n",
            "----------\n"
          ]
        }
      ],
      "source": [
        "import random\n",
        "print(\"This is a dice stimulator\")\n",
        "x = \"y\"\n",
        "\n",
        "while x == \"y\":\n",
        "    number = random.randint(1,6)\n",
        "\n",
        "    if number == 1:\n",
        "        print(\"----------\")\n",
        "        print(\"|        |\")\n",
        "        print(\"|    O   |\")\n",
        "        print(\"|        |\")\n",
        "        print(\"----------\")\n",
        "    if number == 2:\n",
        "        print(\"----------\")\n",
        "        print(\"|        |\")\n",
        "        print(\"| O    O |\")\n",
        "        print(\"|        |\")\n",
        "        print(\"----------\")\n",
        "    if number == 3:\n",
        "        print(\"----------\")\n",
        "        print(\"|    O   |\")\n",
        "        print(\"|    O   |\")\n",
        "        print(\"|    O   |\")\n",
        "        print(\"----------\")\n",
        "    if number == 4:\n",
        "        print(\"----------\")\n",
        "        print(\"| O    O |\")\n",
        "        print(\"|        |\")\n",
        "        print(\"| O    O |\")\n",
        "        print(\"----------\")\n",
        "    if number == 5:\n",
        "        print(\"----------\")\n",
        "        print(\"| O    O |\")\n",
        "        print(\"|    O   |\")\n",
        "        print(\"| O    O |\")\n",
        "        print(\"----------\")\n",
        "    if number == 6:\n",
        "        print(\"----------\")\n",
        "        print(\"| O    O |\")\n",
        "        print(\"| O    O |\")\n",
        "        print(\"| O    O |\")\n",
        "        print(\"----------\")\n",
        "    x = input(\"Press y to roll again\")\n",
        "\n"
      ]
    }
  ]
}